{
 "cells": [
  {
   "cell_type": "code",
   "execution_count": 1,
   "metadata": {
    "collapsed": true
   },
   "outputs": [],
   "source": [
    "from urllib import urlopen\n",
    "import time\n",
    "import datetime\n",
    "from selenium import webdriver\n",
    "from selenium.common.exceptions import NoSuchElementException, TimeoutException\n",
    "from selenium.webdriver.common.by import By\n",
    "from selenium.webdriver.support.ui import WebDriverWait\n",
    "from selenium.webdriver.support import expected_conditions as EC\n",
    "from selenium.webdriver import ActionChains\n",
    "from selenium.webdriver.common.keys import Keys\n",
    "from itertools import izip\n",
    "import pandas as pd\n",
    "import cPickle\n",
    "import re\n",
    "import csv\n",
    "import dill\n",
    "from config import *\n",
    "driver = webdriver.Firefox(firefox_profile = profile, executable_path= webdriver_path)\n"
   ]
  },
  {
   "cell_type": "code",
   "execution_count": 67,
   "metadata": {
    "collapsed": true
   },
   "outputs": [],
   "source": [
    "urls = ['https://www.iens.nl/restaurants-zuid-holland/rt2132'\n",
    ",'https://www.iens.nl/restaurants-zeeland/rt2131'\n",
    ",'https://www.iens.nl/restaurants-utrecht/rt2130'\n",
    ",'https://www.iens.nl/restaurants-overijssel/rt2129'\n",
    ",'https://www.iens.nl/restaurants-noord-holland/rt2128'\n",
    ",'https://www.iens.nl/restaurants-noord-brabant/rt2127'\n",
    ",'https://www.iens.nl/restaurants-limburg/rt2126'\n",
    ",'https://www.iens.nl/restaurants-groningen/rt2125'\n",
    ",'https://www.iens.nl/restaurants-gelderland/rt2124'\n",
    ",'https://www.iens.nl/restaurants-friesland/rt2123'\n",
    ",'https://www.iens.nl/restaurants-flevoland/rt2122'\n",
    ",'https://www.iens.nl/restaurants-drenthe/rt2121']\n",
    "\n",
    "today = datetime.date.today().strftime('%Y%m%d')\n",
    "df = pd.DataFrame()"
   ]
  },
  {
   "cell_type": "code",
   "execution_count": 72,
   "metadata": {},
   "outputs": [],
   "source": []
  },
  {
   "cell_type": "code",
   "execution_count": 74,
   "metadata": {
    "collapsed": true
   },
   "outputs": [
    {
     "name": "stdout",
     "output_type": "stream",
     "text": [
      "('https://www.iens.nl/restaurants-noord-brabant/rt2127', '97')\n",
      "('https://www.iens.nl/restaurants-limburg/rt2126', '63')\n",
      "('https://www.iens.nl/restaurants-groningen/rt2125', '24')\n",
      "('https://www.iens.nl/restaurants-gelderland/rt2124', '81')\n",
      "('https://www.iens.nl/restaurants-friesland/rt2123', '31')\n",
      "('https://www.iens.nl/restaurants-flevoland/rt2122', '10')\n",
      "('https://www.iens.nl/restaurants-drenthe/rt2121', '21')\n"
     ]
    }
   ],
   "source": [
    "for url in urls[5:]:\n",
    "    # go to page\n",
    "    driver.get(url)\n",
    "\n",
    "    # get number of pages\n",
    "    for i in xrange(1,200):\n",
    "        try:\n",
    "            max_page = int(driver.find_element_by_xpath(\"//.[@data-page-number='%d']\" % i).text)\n",
    "        except:\n",
    "            1\n",
    "    print(url, str(max_page))\n",
    "    \n",
    "    for pageNo in range(max_page - 1):\n",
    "        driver.get(url + '#page='+str(pageNo+1))\n",
    "        time.sleep(5)\n",
    "        \n",
    "       \n",
    "        for resto_object in driver.find_elements_by_class_name('resultItem'):\n",
    "\n",
    "            names = resto_object.find_elements_by_xpath(\".//h3[@class='resultItem-name']/a\")\n",
    "            if len(names) > 0:\n",
    "                name = names[0].text.encode(\"ascii\",\"ignore\")\n",
    "            else: \n",
    "                name = ''\n",
    "\n",
    "            keukens = resto_object.find_elements_by_xpath(\".//span[@class='restaurantTag restaurantTag--medium']\")\n",
    "            if len(keukens) > 0:\n",
    "                keuken = keukens[0].text.encode(\"ascii\",\"ignore\")\n",
    "            else: \n",
    "                keuken = ''\n",
    "\n",
    "\n",
    "            plaatsen = resto_object.find_elements_by_xpath(\".//div[@class='resultItem-address']\")\n",
    "            if len(plaatsen) > 0:\n",
    "                plaats = plaatsen[0].text.encode(\"ascii\",\"ignore\")\n",
    "            else: \n",
    "                plaats = ''    \n",
    "\n",
    "            prijzen = resto_object.find_elements_by_xpath(\".//div[@class='resultItem-averagePrice']\")\n",
    "            if len(prijzen) > 0:\n",
    "                prijs = prijzen[0].text.encode(\"ascii\",\"ignore\")\n",
    "            else: \n",
    "                prijs = ''       \n",
    "\n",
    "            cijfers = resto_object.find_elements_by_xpath(\".//span[@class='rating-ratingValue']\")\n",
    "            if len(cijfers) > 0:\n",
    "                cijfer = cijfers[0].text.encode(\"ascii\",\"ignore\")\n",
    "            else: \n",
    "                cijfer = ''     \n",
    "\n",
    "            reviews = resto_object.find_elements_by_xpath(\".//div[@class='reviewsCount reviewsCount--small']/a\")\n",
    "            if len(reviews) > 0:\n",
    "                review = reviews[0].text.encode(\"ascii\",\"ignore\")\n",
    "            else: \n",
    "                review = ''   \n",
    "\n",
    "            links = resto_object.find_elements_by_xpath(\".//h3[@class='resultItem-name']/a\")\n",
    "            if len(links) > 0:\n",
    "                link = links[0].get_attribute(\"href\")\n",
    "                id = resto_object.get_attribute('data-restaurant-id')\n",
    "            else: \n",
    "                link = ''     \t\n",
    "\n",
    "            # union\n",
    "            restoInfo = pd.DataFrame({'id' : id,\n",
    "                            'naam': name,\n",
    "                              'plaats':plaats,\n",
    "                              'cijfer':cijfer,\n",
    "                              'prijs':prijs,\n",
    "                              'keuken':keuken,\n",
    "                              'reviews':review,\n",
    "                              'url':link}, index=[id])\n",
    "\n",
    "            df = df.append(restoInfo, ignore_index=True)"
   ]
  },
  {
   "cell_type": "code",
   "execution_count": null,
   "metadata": {},
   "outputs": [],
   "source": []
  },
  {
   "cell_type": "code",
   "execution_count": null,
   "metadata": {},
   "outputs": [],
   "source": []
  },
  {
   "cell_type": "code",
   "execution_count": null,
   "metadata": {},
   "outputs": [],
   "source": []
  },
  {
   "cell_type": "code",
   "execution_count": 75,
   "metadata": {},
   "outputs": [
    {
     "name": "stdout",
     "output_type": "stream",
     "text": [
      "19597 24375\n"
     ]
    }
   ],
   "source": [
    "print len(df.drop_duplicates()), len(df)"
   ]
  },
  {
   "cell_type": "code",
   "execution_count": 76,
   "metadata": {},
   "outputs": [],
   "source": [
    "df = df.drop_duplicates()"
   ]
  },
  {
   "cell_type": "code",
   "execution_count": 81,
   "metadata": {},
   "outputs": [],
   "source": [
    "import cPickle as pickle\n",
    "with open(today+'_resto_urls_to_scrape.cpickle','wb') as f:\n",
    "    pickle.dump(df, f)"
   ]
  },
  {
   "cell_type": "code",
   "execution_count": null,
   "metadata": {},
   "outputs": [],
   "source": []
  },
  {
   "cell_type": "code",
   "execution_count": 77,
   "metadata": {},
   "outputs": [],
   "source": [
    "# save\n",
    "df.to_csv(today + '_resto_urls_to_scrape.csv')"
   ]
  },
  {
   "cell_type": "code",
   "execution_count": 78,
   "metadata": {},
   "outputs": [
    {
     "data": {
      "text/plain": [
       "'20180403'"
      ]
     },
     "execution_count": 78,
     "metadata": {},
     "output_type": "execute_result"
    }
   ],
   "source": [
    "today"
   ]
  },
  {
   "cell_type": "code",
   "execution_count": null,
   "metadata": {},
   "outputs": [],
   "source": []
  },
  {
   "cell_type": "code",
   "execution_count": null,
   "metadata": {
    "collapsed": true
   },
   "outputs": [],
   "source": []
  }
 ],
 "metadata": {
  "anaconda-cloud": {},
  "kernelspec": {
   "display_name": "Python [conda root]",
   "language": "python",
   "name": "conda-root-py"
  },
  "language_info": {
   "codemirror_mode": {
    "name": "ipython",
    "version": 2
   },
   "file_extension": ".py",
   "mimetype": "text/x-python",
   "name": "python",
   "nbconvert_exporter": "python",
   "pygments_lexer": "ipython2",
   "version": "2.7.12"
  }
 },
 "nbformat": 4,
 "nbformat_minor": 2
}
