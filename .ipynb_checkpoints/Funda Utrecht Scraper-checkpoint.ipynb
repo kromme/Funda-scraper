{
 "cells": [
  {
   "cell_type": "code",
   "execution_count": 1,
   "metadata": {},
   "outputs": [],
   "source": [
    "import time\n",
    "import datetime\n",
    "from selenium import webdriver\n",
    "from selenium.webdriver.support.ui import WebDriverWait\n",
    "from selenium.webdriver.common.keys import Keys\n",
    "import telegram\n",
    "from config import *\n",
    "\n",
    "driver = webdriver.Firefox(firefox_profile = profile, executable_path= webdriver_path)\n",
    "bot = telegram.Bot(token=telegramtoken)"
   ]
  },
  {
   "cell_type": "code",
   "execution_count": 2,
   "metadata": {},
   "outputs": [],
   "source": [
    "with open('db.csv', 'r') as f:\n",
    "    db = f.readlines()\n",
    "    \n",
    "for i in range(len(db)):\n",
    "    db[i] = db[i].replace('\\n','')"
   ]
  },
  {
   "cell_type": "code",
   "execution_count": 3,
   "metadata": {},
   "outputs": [],
   "source": [
    "driver.get(url)"
   ]
  },
  {
   "cell_type": "code",
   "execution_count": 4,
   "metadata": {},
   "outputs": [],
   "source": [
    "retrieved_urls = []\n",
    "for i in driver.find_elements_by_class_name('search-result-header'):\n",
    "    retrieved_urls.append(i.find_element_by_xpath(\" .//a[@data-object-url-tracking='resultlist']\").get_attribute('href'))"
   ]
  },
  {
   "cell_type": "code",
   "execution_count": 5,
   "metadata": {},
   "outputs": [
    {
     "name": "stdout",
     "output_type": "stream",
     "text": [
      "https://www.funda.nl/koop/utrecht/huis-40550508-hermannus-elconiusstraat-51/?navigateSource=resultlist\n",
      "https://www.funda.nl/koop/utrecht/appartement-86906475-nicolaas-sopingiusstraat-1-bis/?navigateSource=resultlist\n"
     ]
    }
   ],
   "source": [
    "for url in retrieved_urls:\n",
    "    if url not in db:\n",
    "        print url\n",
    "        bot.send_message(chat_id=chat_id, text= url )\n",
    "        # add to db\n",
    "        with open('db.csv','a') as f:\n",
    "            f.write('%s\\n' % url)"
   ]
  },
  {
   "cell_type": "code",
   "execution_count": 6,
   "metadata": {},
   "outputs": [],
   "source": [
    "driver.close()"
   ]
  }
 ],
 "metadata": {
  "kernelspec": {
   "display_name": "Python [default]",
   "language": "python",
   "name": "python2"
  },
  "language_info": {
   "codemirror_mode": {
    "name": "ipython",
    "version": 2
   },
   "file_extension": ".py",
   "mimetype": "text/x-python",
   "name": "python",
   "nbconvert_exporter": "python",
   "pygments_lexer": "ipython2",
   "version": "2.7.12"
  }
 },
 "nbformat": 4,
 "nbformat_minor": 2
}
